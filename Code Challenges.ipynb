{
 "cells": [
  {
   "attachments": {},
   "cell_type": "markdown",
   "metadata": {},
   "source": [
    "# Given a sorted array of integers, return the index of the given key. Return -1 if not found. #"
   ]
  },
  {
   "cell_type": "markdown",
   "metadata": {},
   "source": [
    "### In computer science, binary search, also known as half-interval search, logarithmic search, or binary chop, is a search algorithm that finds the position of a target value within a sorted array. ###"
   ]
  },
  {
   "cell_type": "code",
   "execution_count": 39,
   "metadata": {},
   "outputs": [],
   "source": [
    "lst = [1,10,20,47,59,63,75,88,99,107,120,133,155,162,176,188,199,200,210,222]"
   ]
  },
  {
   "cell_type": "code",
   "execution_count": 4,
   "metadata": {},
   "outputs": [
    {
     "data": {
      "text/plain": [
       "10"
      ]
     },
     "execution_count": 4,
     "metadata": {},
     "output_type": "execute_result"
    }
   ],
   "source": [
    "len(lst) // 2"
   ]
  },
  {
   "cell_type": "markdown",
   "metadata": {},
   "source": [
    "This is slow - list comprehension is of order n when we want log(n) -> want to divide search interval in 1/2 each time"
   ]
  },
  {
   "cell_type": "code",
   "execution_count": 5,
   "metadata": {
    "collapsed": true
   },
   "outputs": [],
   "source": [
    "def bsearch(l, key):\n",
    "    a = [i for i in range(len(lst)) if lst[i] == key]\n",
    "    if a != []:\n",
    "        return a\n",
    "    else:\n",
    "        return -1"
   ]
  },
  {
   "cell_type": "code",
   "execution_count": 6,
   "metadata": {},
   "outputs": [
    {
     "data": {
      "text/plain": [
       "[9]"
      ]
     },
     "execution_count": 6,
     "metadata": {},
     "output_type": "execute_result"
    }
   ],
   "source": [
    "bsearch(lst, 107)"
   ]
  },
  {
   "cell_type": "code",
   "execution_count": 36,
   "metadata": {},
   "outputs": [],
   "source": [
    "def bsearch2(l, key):\n",
    "    low, high  = 0, len(l) - 1\n",
    "    mid = low + (high - low) // 2\n",
    "\n",
    "    if l[mid] == key:\n",
    "        return \"The desired index is {}\".format(mid)\n",
    "    elif l[mid] > key:\n",
    "        low = 0\n",
    "        high = mid - 1\n",
    "    else:\n",
    "        low = mid + 1\n",
    "        high = len(l) - 1\n",
    "    mid = low + (high - low) // 2\n",
    "\n",
    "    while low < high:\n",
    "        if l[mid] == key:\n",
    "            return \"The desired index is {}\".format(mid)\n",
    "        elif l[mid] > key:\n",
    "            high -= 1\n",
    "        else:\n",
    "            low += 1\n",
    "        mid = low + (high - low) // 2\n",
    "\n",
    "    return \"{} indicates that the value does not appear in the list\".format(-1)"
   ]
  },
  {
   "cell_type": "code",
   "execution_count": 40,
   "metadata": {},
   "outputs": [
    {
     "data": {
      "text/plain": [
       "'The desired index is 13'"
      ]
     },
     "execution_count": 40,
     "metadata": {},
     "output_type": "execute_result"
    }
   ],
   "source": [
    "bsearch2(lst,162)"
   ]
  },
  {
   "attachments": {},
   "cell_type": "markdown",
   "metadata": {},
   "source": [
    "# Given a large array of integers and a window of size 'w', find the current maximum in the window as the window slides through the entire array. #"
   ]
  },
  {
   "cell_type": "code",
   "execution_count": 15,
   "metadata": {
    "collapsed": true
   },
   "outputs": [],
   "source": [
    "lst = [-4,2,-5,3,6, 8, -1, 12, 1, 4]"
   ]
  },
  {
   "cell_type": "code",
   "execution_count": 18,
   "metadata": {
    "collapsed": true
   },
   "outputs": [],
   "source": [
    "def max_in_window(lst, w):\n",
    "    return [max(lst[i:i+w]) for i in range(len(lst) - w)]"
   ]
  },
  {
   "cell_type": "markdown",
   "metadata": {},
   "source": [
    "### Not sure if they want the overall max or a list of the maximums in each window. Doesn't really make sense that they'd want overall max because that can be obtained more easily by other means. ###"
   ]
  },
  {
   "cell_type": "code",
   "execution_count": 20,
   "metadata": {},
   "outputs": [
    {
     "data": {
      "text/plain": [
       "[3, 6, 8, 8, 12, 12]"
      ]
     },
     "execution_count": 20,
     "metadata": {},
     "output_type": "execute_result"
    }
   ],
   "source": [
    "max_in_window(lst, 4)"
   ]
  },
  {
   "attachments": {},
   "cell_type": "markdown",
   "metadata": {
    "collapsed": true
   },
   "source": [
    "# Search a given number in a sorted array that has been rotated by some arbitrary number. #"
   ]
  },
  {
   "cell_type": "code",
   "execution_count": 29,
   "metadata": {},
   "outputs": [],
   "source": [
    "lst =[176,188,199,200,210,222,1,10,20,47,59,63,75,88,99,107,120,133,155,162,166]"
   ]
  },
  {
   "cell_type": "code",
   "execution_count": 24,
   "metadata": {},
   "outputs": [],
   "source": [
    "def binary_search(lst, key, low, high):\n",
    "    \n",
    "    if low > high:\n",
    "        return -1\n",
    "    \n",
    "    mid = low + (high - low) // 2\n",
    "    \n",
    "    if lst[mid] == key:\n",
    "        return mid\n",
    "    \n",
    "    if (lst[low] < lst[mid] and lst[mid] > key and key >= lst[low]):\n",
    "        return binary_search(lst, key, low, mid - 1)\n",
    "    elif (lst[mid] < lst[high] and lst[mid] < key and key <= lst[high]):\n",
    "        return binary_search(lst, key, mid + 1, high)\n",
    "    elif lst[low] > lst[mid]:\n",
    "        return binary_search(lst, key, low, mid - 1)\n",
    "    elif lst[mid] > lst[high]:\n",
    "        return binary_search(lst, key, mid + 1, high)\n",
    "    \n",
    "    return -1\n",
    "\n",
    "def rot_binary_search(lst, key):\n",
    "    return binary_search(lst, key, 0, len(lst) - 1)"
   ]
  },
  {
   "cell_type": "code",
   "execution_count": 31,
   "metadata": {},
   "outputs": [
    {
     "data": {
      "text/plain": [
       "2"
      ]
     },
     "execution_count": 31,
     "metadata": {},
     "output_type": "execute_result"
    }
   ],
   "source": [
    "rot_binary_search(lst, 199)"
   ]
  },
  {
   "attachments": {},
   "cell_type": "markdown",
   "metadata": {
    "collapsed": true
   },
   "source": [
    "# Given three integer arrays sorted in ascending order, find the smallest number that is common in all three arrays. #"
   ]
  },
  {
   "cell_type": "code",
   "execution_count": 45,
   "metadata": {},
   "outputs": [],
   "source": [
    "lst1 = [6,7,10,25,30,63,64]\n",
    "lst2 = [-1,4,5,7,8,50]\n",
    "lst3 = [1,6,10,14]"
   ]
  },
  {
   "cell_type": "code",
   "execution_count": 42,
   "metadata": {},
   "outputs": [
    {
     "data": {
      "text/plain": [
       "6"
      ]
     },
     "execution_count": 42,
     "metadata": {},
     "output_type": "execute_result"
    }
   ],
   "source": [
    "min(set(lst1) & set(lst2) & set(lst3))"
   ]
  },
  {
   "cell_type": "code",
   "execution_count": 48,
   "metadata": {},
   "outputs": [],
   "source": [
    "def min_common(l,m,n):\n",
    "    try:\n",
    "        return \"The smallest number that is common to the three lists is {}\".format(min(set(lst1) & set(lst2) & set(lst3)))\n",
    "    except:\n",
    "        return \"{} indicates that there is no value common to all of the lists.\".format(-1)"
   ]
  },
  {
   "cell_type": "code",
   "execution_count": 49,
   "metadata": {},
   "outputs": [
    {
     "data": {
      "text/plain": [
       "'-1 indicates that the value does not appear in the list'"
      ]
     },
     "execution_count": 49,
     "metadata": {},
     "output_type": "execute_result"
    }
   ],
   "source": [
    "min_common(lst1, lst2, lst3)"
   ]
  },
  {
   "attachments": {},
   "cell_type": "markdown",
   "metadata": {},
   "source": [
    "# Given an array of integers, rotate the array by N elements. Here, N is an integer. #"
   ]
  },
  {
   "cell_type": "code",
   "execution_count": 1,
   "metadata": {},
   "outputs": [],
   "source": [
    "lst4 = [1,10,20,0,59,86,32,11,9,40]"
   ]
  },
  {
   "cell_type": "code",
   "execution_count": 2,
   "metadata": {},
   "outputs": [
    {
     "data": {
      "text/plain": [
       "1"
      ]
     },
     "execution_count": 2,
     "metadata": {},
     "output_type": "execute_result"
    }
   ],
   "source": [
    "lst4[::-1].pop()"
   ]
  },
  {
   "cell_type": "code",
   "execution_count": 3,
   "metadata": {},
   "outputs": [
    {
     "data": {
      "text/plain": [
       "[1, 10, 20, 0, 59, 86, 32, 11, 9, 40]"
      ]
     },
     "execution_count": 3,
     "metadata": {},
     "output_type": "execute_result"
    }
   ],
   "source": [
    "lst4[::1]"
   ]
  },
  {
   "cell_type": "code",
   "execution_count": 4,
   "metadata": {},
   "outputs": [],
   "source": [
    "lst4 = [1,10,20,0,59,86,32,11,9,40]"
   ]
  },
  {
   "cell_type": "code",
   "execution_count": 5,
   "metadata": {},
   "outputs": [
    {
     "ename": "SyntaxError",
     "evalue": "unexpected EOF while parsing (<ipython-input-5-64a56a48e235>, line 1)",
     "output_type": "error",
     "traceback": [
      "\u001b[0;36m  File \u001b[0;32m\"<ipython-input-5-64a56a48e235>\"\u001b[0;36m, line \u001b[0;32m1\u001b[0m\n\u001b[0;31m    def listrot(lst, rots):\u001b[0m\n\u001b[0m                           ^\u001b[0m\n\u001b[0;31mSyntaxError\u001b[0m\u001b[0;31m:\u001b[0m unexpected EOF while parsing\n"
     ]
    }
   ],
   "source": [
    "def listrot(lst, rots):"
   ]
  },
  {
   "cell_type": "code",
   "execution_count": 6,
   "metadata": {},
   "outputs": [],
   "source": [
    "def listrot(lst, rots):\n",
    "   for i in range (rots):\n",
    "     top = lst.pop()\n",
    "     lst.reverse()\n",
    "     lst.append(top)\n",
    "     lst.reverse()"
   ]
  },
  {
   "cell_type": "code",
   "execution_count": 7,
   "metadata": {},
   "outputs": [],
   "source": [
    "listrot(lst4, 3)"
   ]
  },
  {
   "cell_type": "code",
   "execution_count": 8,
   "metadata": {},
   "outputs": [
    {
     "data": {
      "text/plain": [
       "[11, 9, 40, 1, 10, 20, 0, 59, 86, 32]"
      ]
     },
     "execution_count": 8,
     "metadata": {},
     "output_type": "execute_result"
    }
   ],
   "source": [
    "lst4"
   ]
  },
  {
   "cell_type": "code",
   "execution_count": null,
   "metadata": {},
   "outputs": [],
   "source": []
  }
 ],
 "metadata": {
  "kernelspec": {
   "display_name": "Python 3",
   "language": "python",
   "name": "python3"
  },
  "language_info": {
   "codemirror_mode": {
    "name": "ipython",
    "version": 3
   },
   "file_extension": ".py",
   "mimetype": "text/x-python",
   "name": "python",
   "nbconvert_exporter": "python",
   "pygments_lexer": "ipython3",
   "version": "3.6.4"
  }
 },
 "nbformat": 4,
 "nbformat_minor": 2
}
